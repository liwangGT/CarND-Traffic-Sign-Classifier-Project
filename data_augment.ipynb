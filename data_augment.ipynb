{
 "cells": [
  {
   "cell_type": "markdown",
   "metadata": {},
   "source": [
    "# Data Augmentation\n",
    "## Augment training data for deep learning"
   ]
  },
  {
   "cell_type": "markdown",
   "metadata": {},
   "source": [
    "## Step 1: load old data"
   ]
  },
  {
   "cell_type": "code",
   "execution_count": 69,
   "metadata": {},
   "outputs": [],
   "source": [
    "# Load pickled data\n",
    "import pickle\n",
    "import matplotlib.pyplot as plt\n",
    "import numpy as np\n",
    "# Visualizations will be shown in the notebook.\n",
    "%matplotlib inline\n",
    "\n",
    "training_file = 'traffic-signs-data/train.p'\n",
    "validation_file= 'traffic-signs-data/valid.p'\n",
    "testing_file = 'traffic-signs-data/test.p'\n",
    "\n",
    "with open(training_file, mode='rb') as f:\n",
    "    train = pickle.load(f)\n",
    "with open(validation_file, mode='rb') as f:\n",
    "    valid = pickle.load(f)\n",
    "with open(testing_file, mode='rb') as f:\n",
    "    test = pickle.load(f)\n",
    "    \n",
    "X_train, y_train = train['features'], train['labels']\n",
    "X_valid, y_valid = valid['features'], valid['labels']\n",
    "X_test, y_test = test['features'], test['labels']"
   ]
  },
  {
   "cell_type": "code",
   "execution_count": 70,
   "metadata": {},
   "outputs": [
    {
     "name": "stdout",
     "output_type": "stream",
     "text": [
      "Number of training examples = 34799\n",
      "Number of validation examples = 4410\n",
      "Number of testing examples = 12630\n",
      "Image data shape = (32, 32, 3)\n",
      "Number of classes = 43\n"
     ]
    }
   ],
   "source": [
    "### Replace each question mark with the appropriate value. \n",
    "### Use python, pandas or numpy methods rather than hard coding the results\n",
    "\n",
    "# TODO: Number of training examples\n",
    "n_train = len(y_train)\n",
    "\n",
    "# TODO: Number of validation examples\n",
    "n_validation = len(y_valid)\n",
    "\n",
    "# TODO: Number of testing examples.\n",
    "n_test = len(y_test)\n",
    "\n",
    "# TODO: What's the shape of an traffic sign image?\n",
    "image_shape = X_train[0].shape\n",
    "\n",
    "# TODO: How many unique classes/labels there are in the dataset.\n",
    "l1 = set(y_train)\n",
    "l2 = set(y_test)\n",
    "l3 = set(y_valid)\n",
    "lall = set.union(l1,l2,l3)\n",
    "n_classes = len(lall)\n",
    "if len(lall)>len(l1):\n",
    "    print(\"Warning: training data does not contain some traffic signs\")\n",
    "print(\"Number of training examples =\", n_train)\n",
    "print(\"Number of validation examples =\", n_validation)\n",
    "print(\"Number of testing examples =\", n_test)\n",
    "print(\"Image data shape =\", image_shape)\n",
    "print(\"Number of classes =\", n_classes)"
   ]
  },
  {
   "cell_type": "markdown",
   "metadata": {},
   "source": [
    "## Step 2: visualize data distribution"
   ]
  },
  {
   "cell_type": "code",
   "execution_count": null,
   "metadata": {},
   "outputs": [
    {
     "data": {
      "image/png": "[encoded data removed]",
      "text/plain": [
       "<matplotlib.figure.Figure at 0x7fdabc0f9a20>"
      ]
     },
     "metadata": {},
     "output_type": "display_data"
    }
   ],
   "source": [
    "### get relative number of training, testing, and validation data\n",
    "# get density map from data\n",
    "def getHist(y):\n",
    "    density = np.zeros((43,))\n",
    "    for i in range(len(y)):\n",
    "        density[y[i]] += 1\n",
    "    return density\n",
    "\n",
    "# plot prediction accuracy by signs and save model\n",
    "fig = plt.figure(figsize=(15,4))\n",
    "#fig, ax = plt.subplots()\n",
    "width = 0.25\n",
    "hist_train = getHist(y_train)\n",
    "hist_test = getHist(y_test)\n",
    "hist_valid = getHist(y_valid)\n",
    "rects1 = plt.bar(np.arange(n_classes), hist_train/max(hist_train), width, color='r')    \n",
    "rects2 = plt.bar(np.arange(n_classes) + width, hist_test/max(hist_test), width, color='g')\n",
    "rects3 = plt.bar(np.arange(n_classes) - width, hist_valid/max(hist_valid), width, color='k')\n",
    "l1 = plt.legend((rects1[0], rects2[0], rects3[0]), ('relative # of training data', 'relative # of testing data', 'relative # of validation data'), loc='center left', bbox_to_anchor=(1, 0.5))"
   ]
  },
  {
   "cell_type": "markdown",
   "metadata": {},
   "source": [
    "## Step 3: generate data"
   ]
  },
  {
   "cell_type": "code",
   "execution_count": null,
   "metadata": {},
   "outputs": [
    {
     "name": "stdout",
     "output_type": "stream",
     "text": [
      "Finished augmenting class  1\n",
      "Finished augmenting class  11\n",
      "Finished augmenting class  21\n",
      "Finished augmenting class  31\n"
     ]
    }
   ],
   "source": [
    "### Augment data set (using rotation, shift, change contrast)\n",
    "from PIL import Image\n",
    "# shuffle datasets\n",
    "from sklearn.utils import shuffle\n",
    "import random\n",
    "# rotate original image by degree\n",
    "def Rotation(img, angle):\n",
    "    img2 = Image.fromarray(img)\n",
    "    img3 = img2.rotate(angle)\n",
    "    imgout = np.array(img3)\n",
    "    return imgout\n",
    "\n",
    "# shift original image by dx, by\n",
    "def Shift(img, dx, dy):\n",
    "    imgout = np.zeros(img.shape)\n",
    "    if dx>0 and dy>0:\n",
    "        imgout[dx:, dy:, :] = img[:-dx, :-dy, :]\n",
    "    if dx>0 and dy<0:\n",
    "        imgout[dx:, :dy, :] = img[:-dx, -dy:, :]\n",
    "    if dx<0 and dy>0:\n",
    "        imgout[:dx, :-dy, :] = img[-dx:, :-dy, :]\n",
    "    if dx<0 and dy<0:\n",
    "        imgout[:dx, :dy, :] = img[-dx:, -dy:, :]\n",
    "    return imgout.astype('uint8')\n",
    "\n",
    "# change contrast of image\n",
    "def Change_contrast(img, level):\n",
    "    factor = (259.0 * (level + 255)) / (255.0 * (259 - level))\n",
    "    img_new = 128.0 + factor*(img-128.0)\n",
    "    imgout = np.maximum(0, np.minimum(255, img_new))\n",
    "    return imgout.astype('uint8')\n",
    "\n",
    "def genRandNew(img):\n",
    "    flag = np.random.randint(0,3,(1,))\n",
    "    if flag==0:\n",
    "        numbers = [-5,-4,-3,-2,-1,1,2,3,4,5]\n",
    "        dx = random.choice(numbers)\n",
    "        dy = random.choice(numbers)\n",
    "        imgnew = Shift(img, dx, dy)\n",
    "    elif flag==1:\n",
    "        degree = np.random.randint(-30, 30, (1,))\n",
    "        imgnew = Rotation(img, degree)\n",
    "    elif flag==2:\n",
    "        level = np.random.randint(0,80,(1,))\n",
    "        imgnew = Change_contrast(img, level)\n",
    "    return imgnew.reshape(1,img.shape[0],img.shape[1],img.shape[2])\n",
    "\n",
    "# augment the training dataset, if data for some sign is not sufficient\n",
    "def Augment(x, y):\n",
    "    # sort x and y by label\n",
    "    yind = np.argsort(y)\n",
    "    y = y[yind]\n",
    "    x = x[yind]\n",
    "    hist_y = getHist(y)\n",
    "    # use the average of data point as targeted number of data points\n",
    "    N = 1000#int(np.mean(hist_y)*0.3)\n",
    "    for i in range(len(hist_y)):\n",
    "        # augment if data amount for this sign is below average\n",
    "        if (hist_train[i]<N):\n",
    "            Nadd = N - hist_train[i]\n",
    "            count = 0\n",
    "            while count<Nadd:\n",
    "                kadd = count%int(hist_train[i])\n",
    "                if i>0:\n",
    "                    kadd += int(sum(hist_train[:i]))\n",
    "                imgnew = genRandNew(x[kadd])\n",
    "                x= np.concatenate((x, imgnew), axis=0)\n",
    "                y = np.append(y, y[kadd])\n",
    "                count += 1\n",
    "        if i%10 == 1:\n",
    "            print(\"Finished augmenting class \", i, flush=True)\n",
    "    # shuffle when additional data generated\n",
    "    x, y = shuffle(x, y)\n",
    "    return x, y\n",
    "\n",
    "X_train, y_train = Augment(X_train, y_train)"
   ]
  },
  {
   "cell_type": "code",
   "execution_count": null,
   "metadata": {},
   "outputs": [],
   "source": [
    "### plot img before and after augmentation\n",
    "plt.figure(figsize=(20,20))\n",
    "for i in range(6):\n",
    "    ax = plt.subplot(1,6,i+1)\n",
    "    #plt.imshow(img,cmap='gray')\n",
    "    plt.imshow(X_train[i])\n",
    "    ax.set_title(\"Original\")\n",
    "\n",
    "# plot shifted figure\n",
    "plt.figure(figsize=(20,20))\n",
    "plt.title(\"Original figure\")\n",
    "numbers = [-5,-4,-3,-2,-1,1,2,3,4,5]\n",
    "for i in range(6):\n",
    "    ax = plt.subplot(1,6,i+1)\n",
    "    dx = random.choice(numbers)\n",
    "    dy = random.choice(numbers)\n",
    "    ax.set_title(\"shifted %s,%s\" %(dx,dy))\n",
    "    img = Shift(X_train[i], dx, dy)\n",
    "    #plt.imshow(img,cmap='gray')\n",
    "    plt.imshow(img)    \n",
    "\n",
    "\n",
    "# plot rotated figure\n",
    "plt.figure(figsize=(20,20))\n",
    "plt.title(\"Rotated figure\")\n",
    "#fig.suptitle(\"here is the title\")\n",
    "for i in range(6):\n",
    "    ax = plt.subplot(1,6,i+1)\n",
    "    degree = np.random.randint(-30, 30, (1,))\n",
    "    ax.set_title(\"Rotated %s degree\" %degree)\n",
    "    img = Rotation(X_train[i], degree)\n",
    "    #plt.imshow(img,cmap='gray')\n",
    "    plt.imshow(img)\n",
    "\n",
    "\n",
    "# plot contrast figure\n",
    "fig2 = plt.figure(figsize=(20,20))\n",
    "plt.title(\"Shifted figure\")\n",
    "for i in range(6):\n",
    "    ax = plt.subplot(1,6,i+1)\n",
    "    level = np.random.randint(0,80,(1,))\n",
    "    ax.set_title(\"Contrast level %s\" %level)\n",
    "    img = Change_contrast(X_train[i], level)\n",
    "    #plt.imshow(img,cmap='gray')\n",
    "    plt.imshow(img)"
   ]
  },
  {
   "cell_type": "code",
   "execution_count": null,
   "metadata": {},
   "outputs": [],
   "source": [
    "# Visualize training data distribution after augmentation\n",
    "# plot prediction accuracy by signs and save model\n",
    "fig = plt.figure(figsize=(15,4))\n",
    "#fig, ax = plt.subplots()\n",
    "width = 0.35\n",
    "hist_train_new = getHist(y_train)\n",
    "rects1 = plt.bar(np.arange(n_classes), hist_train, width, color='r')    \n",
    "rects2 = plt.bar(np.arange(n_classes)+width, hist_train_new, width, color='g')    \n",
    "l1 = plt.legend((rects1[0], rects2[0]), ('Original # of training data', 'Current # of training data'), loc='center left', bbox_to_anchor=(1, 0.5))"
   ]
  },
  {
   "cell_type": "markdown",
   "metadata": {},
   "source": [
    "## Step 4: save data"
   ]
  },
  {
   "cell_type": "code",
   "execution_count": null,
   "metadata": {},
   "outputs": [],
   "source": [
    "train['features'] = X_train\n",
    "train['labels'] = y_train\n",
    "pickle.dump(train, open( \"traffic-signs-data/train_augmented.p\", \"wb\" ) )"
   ]
  }
 ],
 "metadata": {
  "kernelspec": {
   "display_name": "Python 3",
   "language": "python",
   "name": "python3"
  },
  "language_info": {
   "codemirror_mode": {
    "name": "ipython",
    "version": 3
   },
   "file_extension": ".py",
   "mimetype": "text/x-python",
   "name": "python",
   "nbconvert_exporter": "python",
   "pygments_lexer": "ipython3",
   "version": "3.5.2"
  },
  "widgets": {
   "state": {},
   "version": "1.1.2"
  }
 },
 "nbformat": 4,
 "nbformat_minor": 2
}
